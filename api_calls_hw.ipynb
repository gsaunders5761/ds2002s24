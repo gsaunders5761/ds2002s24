{
  "nbformat": 4,
  "nbformat_minor": 0,
  "metadata": {
    "colab": {
      "provenance": [],
      "authorship_tag": "ABX9TyP2oAa48hLY9EuuOs5rojyj",
      "include_colab_link": true
    },
    "kernelspec": {
      "name": "python3",
      "display_name": "Python 3"
    },
    "language_info": {
      "name": "python"
    }
  },
  "cells": [
    {
      "cell_type": "markdown",
      "metadata": {
        "id": "view-in-github",
        "colab_type": "text"
      },
      "source": [
        "<a href=\"https://colab.research.google.com/github/gsaunders5761/ds2002s24/blob/main/api_calls_hw.ipynb\" target=\"_parent\"><img src=\"https://colab.research.google.com/assets/colab-badge.svg\" alt=\"Open In Colab\"/></a>"
      ]
    },
    {
      "cell_type": "code",
      "execution_count": 1,
      "metadata": {
        "id": "8u5eD-dI19SO"
      },
      "outputs": [],
      "source": [
        "import os\n",
        "import json\n",
        "import pprint\n",
        "import requests\n",
        "import requests.exceptions\n",
        "import pandas as pd\n"
      ]
    },
    {
      "cell_type": "markdown",
      "source": [
        "initialize dataframe, define url and desired fields (capital and population)"
      ],
      "metadata": {
        "id": "8pc1B5GeW6eP"
      }
    },
    {
      "cell_type": "code",
      "source": [
        "data = pd.DataFrame()\n",
        "print(data)\n",
        "rest_url = \"https://restcountries.com/v3.1/name/\"\n",
        "fields = \"?fields=capital,population\"\n"
      ],
      "metadata": {
        "colab": {
          "base_uri": "https://localhost:8080/"
        },
        "id": "2Cm3e-1w25do",
        "outputId": "010da6bf-9dbc-4f40-bc0c-55ac5d91607c"
      },
      "execution_count": 2,
      "outputs": [
        {
          "output_type": "stream",
          "name": "stdout",
          "text": [
            "Empty DataFrame\n",
            "Columns: []\n",
            "Index: []\n"
          ]
        }
      ]
    },
    {
      "cell_type": "markdown",
      "source": [
        "Extract and display the country's capital and population. Handle errors gracefully, such as invalid input or API call failures or non-existent countries."
      ],
      "metadata": {
        "id": "LeRLGIwUXGLH"
      }
    },
    {
      "cell_type": "code",
      "source": [
        "def get_api_response(url):\n",
        "    # extract from url\n",
        "    try:\n",
        "        response = requests.get(url)\n",
        "        response.raise_for_status()\n",
        "\n",
        "    # exception handling\n",
        "    except requests.exceptions.HTTPError as errh:\n",
        "        return \"An Http Error occurred: \" + repr(errh)\n",
        "    except requests.exceptions.ConnectionError as errc:\n",
        "        return \"An Error Connecting to the API occurred: \" + repr(errc)\n",
        "    except requests.exceptions.Timeout as errt:\n",
        "        return \"A Timeout Error occurred: \" + repr(errt)\n",
        "    except requests.exceptions.RequestException as err:\n",
        "        return \"An Unknown Error occurred: \" + repr(err)\n",
        "\n",
        "    #result as dataframe\n",
        "    result = pd.json_normalize(response.json())\n",
        "\n",
        "    return result"
      ],
      "metadata": {
        "id": "r-nVldtk2Aq7"
      },
      "execution_count": 3,
      "outputs": []
    },
    {
      "cell_type": "markdown",
      "source": [
        "Display the results to the user AND store it in a dataframe and write that out to a JSON file. If you ask for more countries, append it to the same JSON file."
      ],
      "metadata": {
        "id": "_7Zo55xDXKvJ"
      }
    },
    {
      "cell_type": "code",
      "source": [
        "def load_data(dataframe):\n",
        "  # ask for country input\n",
        "  country = input(\"Enter a country name: \")\n",
        "  # concatenate url\n",
        "  full_url = rest_url+country+fields\n",
        "  print(full_url)\n",
        "  # api call on given url\n",
        "  new_call = get_api_response(full_url)\n",
        "  # check if call returned a dataframe\n",
        "  if isinstance(new_call, pd.DataFrame):\n",
        "    # add country column\n",
        "    new_call[\"country\"] = country\n",
        "    # append new call to existing dataframe\n",
        "    dataframe = pd.concat([dataframe, new_call], ignore_index=True)\n",
        "  else:\n",
        "    print(\"Error retrieving data for \", country)\n",
        "  print(\"df: \\n\", dataframe)\n",
        "  # output to json file\n",
        "  dataframe.to_json('output.json')\n",
        "  return dataframe"
      ],
      "metadata": {
        "id": "Dz17dHHG2XlV"
      },
      "execution_count": 4,
      "outputs": []
    },
    {
      "cell_type": "code",
      "source": [
        "# main function call, updates \"data\" dataframe with new country info\n",
        "data = load_data(data)\n"
      ],
      "metadata": {
        "colab": {
          "base_uri": "https://localhost:8080/"
        },
        "id": "E3TXRKVwbINy",
        "outputId": "67eb2ea0-92ab-4f8e-a383-15357ca73672"
      },
      "execution_count": 7,
      "outputs": [
        {
          "output_type": "stream",
          "name": "stdout",
          "text": [
            "Enter a country name: ghana\n",
            "https://restcountries.com/v3.1/name/ghana?fields=capital,population\n",
            "df: \n",
            "        capital  population  country\n",
            "0  [Reykjavik]      366425  iceland\n",
            "1   [Santiago]    19116209    chile\n",
            "2      [Accra]    31072945    ghana\n"
          ]
        }
      ]
    }
  ]
}